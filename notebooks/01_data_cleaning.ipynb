{
 "cells": [
  {
   "cell_type": "markdown",
   "id": "72dcd311",
   "metadata": {},
   "source": [
    "# Notebook : Préparation des données énergie UE\n",
    "\n",
    "Ce notebook montre les étapes pour :\n",
    "1. Charger le fichier Excel `owid-energy-data.xlsx` dans une base SQLite.\n",
    "2. Filtrer et transformer les données via SQL.\n",
    "3. Exporter le résultat final en fichier Excel (`energie_transfo_01.xlsx`) pour analyse et visualisation (ex. Tableau).\n",
    "\n",
    "**Sources** : Données OWID (Our World In Data) sur l'énergie en Europe."
   ]
  },
  {
   "cell_type": "code",
   "execution_count": null,
   "id": "c98da327",
   "metadata": {},
   "outputs": [],
   "source": [
    "# Importer les bibliothèques nécessaires\n",
    "\n",
    "import pandas as pd\n",
    "import sqlite3"
   ]
  },
  {
   "cell_type": "code",
   "execution_count": null,
   "id": "c52c3602",
   "metadata": {},
   "outputs": [],
   "source": [
    "# Charger le fichier Excel et l'importer dans SQLite\n",
    "\n",
    "# 1. Charger le fichier Excel\n",
    "df = pd.read_excel(\"owid-energy-data.xlsx\", sheet_name=\"Data\")\n",
    "\n",
    "# 2. Connexion / création de la base SQLite\n",
    "conn = sqlite3.connect(\"Base_SQL_Projet_Energie.db\")\n",
    "\n",
    "# 3. Importer le DataFrame dans SQLite\n",
    "df.to_sql(\"ma_table\", conn, if_exists=\"replace\", index=False)\n",
    "\n",
    "# 4. Fermer la connexion\n",
    "conn.close()\n",
    "\n",
    "# Vérification\n",
    "print(\"Fichier Excel chargé dans SQLite avec succès !\")"
   ]
  },
  {
   "cell_type": "code",
   "execution_count": null,
   "id": "73d47251",
   "metadata": {},
   "outputs": [],
   "source": [
    "# Requête SQL pour filtrer les données\n",
    "\n",
    "# Connexion à la base SQLite\n",
    "conn = sqlite3.connect(\"Base_SQL_Projet_Energie.db\")\n",
    "\n",
    "# Requête SQL\n",
    "query = \"\"\"\n",
    "WITH base AS (\n",
    "    SELECT *\n",
    "    FROM ma_table m\n",
    "    WHERE country IN ('Austria', 'Belgium', 'Czechia', 'Denmark', 'Estonia', 'Finland', 'France', 'Germany',\n",
    "                      'Greece', 'Hungary', 'Iceland', 'Ireland', 'Italy', 'Latvia', 'Lithuania', 'Luxembourg', \n",
    "                      'Netherlands', 'Norway', 'Poland', 'Portugal', 'Slovakia', 'Slovenia',\n",
    "                      'Spain', 'Sweden', 'Switzerland', 'Turkey', 'United Kingdom')\n",
    ")\n",
    "SELECT country, year, fossil_fuel_consumption, fossil_share_energy,\n",
    "       nuclear_consumption, nuclear_share_energy, \n",
    "       renewables_consumption, renewables_share_energy,\n",
    "       gas_consumption, gas_share_energy\n",
    "FROM base\n",
    "WHERE year > 1999\n",
    "GROUP BY country, year\n",
    "ORDER BY country, year ASC\n",
    "\"\"\"\n",
    "\n",
    "# Charger le résultat dans un DataFrame\n",
    "df_filtered = pd.read_sql_query(query, conn)\n",
    "\n",
    "# Vérifier les premières lignes\n",
    "df_filtered.head()\n"
   ]
  },
  {
   "cell_type": "code",
   "execution_count": null,
   "id": "89b841ea",
   "metadata": {},
   "outputs": [],
   "source": [
    "# Exporter le DataFrame filtré dans un nouveau fichier Excel\n",
    "\n",
    "# Exporter en Excel pour utilisation dans Tableau\n",
    "df_filtered.to_excel(\"energie_transfo_01.xlsx\", index=False)\n",
    "\n",
    "print(\"Dataset final exporté : energie_transfo_01.xlsx\")"
   ]
  },
  {
   "cell_type": "markdown",
   "id": "2512399c",
   "metadata": {},
   "source": [
    "# Notes\n",
    "\n",
    "- Ce notebook reproduit exactement les scripts Python utilisés pour préparer les données.\n",
    "- Il peut être exécuté de bout en bout pour générer le dataset final.\n",
    "- Les données brutes (`owid-energy-data.xlsx`) ne sont pas versionnées sur GitHub (voir .gitignore).\n",
    "- Dataset final prêt pour visualisation dans Tableau."
   ]
  }
 ],
 "metadata": {
  "language_info": {
   "name": "python"
  }
 },
 "nbformat": 4,
 "nbformat_minor": 5
}
